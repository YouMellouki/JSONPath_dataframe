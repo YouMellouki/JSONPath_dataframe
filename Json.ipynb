{
  "nbformat": 4,
  "nbformat_minor": 0,
  "metadata": {
    "colab": {
      "name": "Json.ipynb",
      "provenance": []
    },
    "kernelspec": {
      "name": "python3",
      "display_name": "Python 3"
    },
    "language_info": {
      "name": "python"
    }
  },
  "cells": [
    {
      "cell_type": "code",
      "source": [
        "import json\n",
        "import pandas\n",
        "  \n",
        "  \n",
        "def read_json(filename: str) -> dict:\n",
        "  \n",
        "    try:\n",
        "        with open(filename, \"r\") as f:\n",
        "            data = json.loads(f.read())\n",
        "    except:\n",
        "        raise Exception(f\"Reading {filename} file encountered an error\")\n",
        "  \n",
        "    return data"
      ],
      "metadata": {
        "id": "yuFeZFcW4v-_"
      },
      "execution_count": 1,
      "outputs": []
    },
    {
      "cell_type": "code",
      "source": [
        "def create_dataframe(data: list) -> pandas.DataFrame:\n",
        "  \n",
        "    # Declare an empty dataframe to append records\n",
        "    dataframe = pandas.DataFrame()\n",
        "  \n",
        "    # Looping through each record\n",
        "    for d in data:\n",
        "          \n",
        "        # Normalize the column levels\n",
        "        record = pandas.json_normalize(d)\n",
        "          \n",
        "        # Append it to the dataframe \n",
        "        dataframe = dataframe.append(record, ignore_index=True)\n",
        "  \n",
        "    return dataframe"
      ],
      "metadata": {
        "id": "QzggiO5x4wBn"
      },
      "execution_count": 2,
      "outputs": []
    },
    {
      "cell_type": "code",
      "source": [
        "def main():\n",
        "    # Read the JSON file as python dictionary \n",
        "    inputjson = str(input(\"The JSON file path :\"))\n",
        "    #data = read_json(filename=\"ac.json\")\n",
        "    data = read_json(filename=inputjson)\n",
        "\n",
        "  \n",
        "    # Generate the dataframe for the array items in \n",
        "    # details key \n",
        "    dataframe = create_dataframe(data=data['items'])\n",
        "  \n",
        "    # Renaming columns of the dataframe \n",
        "    print(\"Normalized Columns:\", dataframe.columns.to_list())\n",
        "  \n",
        "  \n",
        "    # Convert dataframe to CSV\n",
        "    dataframe.to_csv(\"dat.csv\", index=False)\n",
        "  \n",
        "  \n",
        "if __name__ == '__main__':\n",
        "    main()"
      ],
      "metadata": {
        "colab": {
          "base_uri": "https://localhost:8080/"
        },
        "id": "2HCMhMB74wDq",
        "outputId": "7895f900-2fd5-4026-83c7-7b5460054030"
      },
      "execution_count": 3,
      "outputs": [
        {
          "output_type": "stream",
          "name": "stdout",
          "text": [
            "The JSON file path :/content/acndata_sessions.json\n",
            "Normalized Columns: ['_id', 'clusterID', 'connectionTime', 'disconnectTime', 'doneChargingTime', 'kWhDelivered', 'sessionID', 'siteID', 'spaceID', 'stationID', 'timezone', 'userID', 'userInputs']\n"
          ]
        }
      ]
    },
    {
      "cell_type": "code",
      "source": [
        ""
      ],
      "metadata": {
        "id": "m-va1I1j5Sjx"
      },
      "execution_count": null,
      "outputs": []
    }
  ]
}